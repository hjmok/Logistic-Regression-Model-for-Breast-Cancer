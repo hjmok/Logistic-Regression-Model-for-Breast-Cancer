{
  "nbformat": 4,
  "nbformat_minor": 0,
  "metadata": {
    "application/vnd.databricks.v1+notebook": {
      "notebookName": "Breast Cancer",
      "dashboards": [],
      "notebookMetadata": {
        "pythonIndentUnit": 2
      },
      "language": "python",
      "widgets": {},
      "notebookOrigID": 4272511338019906
    },
    "colab": {
      "name": "LogisticRegression_PySpark_BreastCancerDiagnosis.ipynb",
      "provenance": []
    }
  },
  "cells": [
    {
      "cell_type": "code",
      "metadata": {
        "application/vnd.databricks.v1+cell": {
          "title": "",
          "showTitle": false,
          "inputWidgets": {},
          "nuid": "b3494430-5ddd-4c35-b41b-7bf50af2d372"
        },
        "id": "M0KoZBqUEnEX",
        "outputId": "72230605-75e4-41d9-ee6a-960b5552aee4"
      },
      "source": [
        "from pyspark.sql import SparkSession\n",
        "from pyspark.ml.classification import LogisticRegression\n",
        "from pyspark.ml.linalg import Vectors\n",
        "from pyspark.ml.feature import VectorAssembler\n",
        "from pyspark.ml.feature import StringIndexer\n",
        "from pyspark.sql.functions import isnan, when, count, col\n",
        "from pyspark.ml.evaluation import BinaryClassificationEvaluator\n",
        "\n",
        "import sklearn \n",
        "from sklearn.metrics import classification_report, confusion_matrix"
      ],
      "execution_count": null,
      "outputs": [
        {
          "output_type": "display_data",
          "data": {
            "text/html": [
              "<style scoped>\n",
              "  .ansiout {\n",
              "    display: block;\n",
              "    unicode-bidi: embed;\n",
              "    white-space: pre-wrap;\n",
              "    word-wrap: break-word;\n",
              "    word-break: break-all;\n",
              "    font-family: \"Source Code Pro\", \"Menlo\", monospace;;\n",
              "    font-size: 13px;\n",
              "    color: #555;\n",
              "    margin-left: 4px;\n",
              "    line-height: 19px;\n",
              "  }\n",
              "</style>\n",
              "<div class=\"ansiout\"></div>"
            ]
          },
          "metadata": {
            "tags": [],
            "application/vnd.databricks.v1+output": {
              "datasetInfos": [],
              "data": "<div class=\"ansiout\"></div>",
              "removedWidgets": [],
              "addedWidgets": {},
              "type": "html",
              "arguments": {}
            }
          }
        }
      ]
    },
    {
      "cell_type": "code",
      "metadata": {
        "application/vnd.databricks.v1+cell": {
          "title": "",
          "showTitle": false,
          "inputWidgets": {},
          "nuid": "e4d16578-c897-49c7-9f62-26b1abe3a771"
        },
        "id": "vr7wMgUCEnEj",
        "outputId": "c52ccbbf-d0a3-4eec-92d7-0a9e9d277d9d"
      },
      "source": [
        "spark = SparkSession.builder.appName('BreastCancer').getOrCreate()"
      ],
      "execution_count": null,
      "outputs": [
        {
          "output_type": "display_data",
          "data": {
            "text/html": [
              "<style scoped>\n",
              "  .ansiout {\n",
              "    display: block;\n",
              "    unicode-bidi: embed;\n",
              "    white-space: pre-wrap;\n",
              "    word-wrap: break-word;\n",
              "    word-break: break-all;\n",
              "    font-family: \"Source Code Pro\", \"Menlo\", monospace;;\n",
              "    font-size: 13px;\n",
              "    color: #555;\n",
              "    margin-left: 4px;\n",
              "    line-height: 19px;\n",
              "  }\n",
              "</style>\n",
              "<div class=\"ansiout\"></div>"
            ]
          },
          "metadata": {
            "tags": [],
            "application/vnd.databricks.v1+output": {
              "datasetInfos": [],
              "data": "<div class=\"ansiout\"></div>",
              "removedWidgets": [],
              "addedWidgets": {},
              "type": "html",
              "arguments": {}
            }
          }
        }
      ]
    },
    {
      "cell_type": "markdown",
      "metadata": {
        "id": "NgwU_MhUEpSi"
      },
      "source": [
        "# **Part 1 - Data Preprocessing**"
      ]
    },
    {
      "cell_type": "code",
      "metadata": {
        "application/vnd.databricks.v1+cell": {
          "title": "",
          "showTitle": false,
          "inputWidgets": {},
          "nuid": "26f941f8-9aff-4588-81ae-682daccd3e53"
        },
        "id": "bDCq4puwEnEk",
        "outputId": "9c141a6b-55b8-4dfb-f0b6-256096be6327"
      },
      "source": [
        "df = spark.read.csv('/FileStore/tables/breast_cancer_data.csv',inferSchema=True,header=True)\n",
        "\n",
        "df.printSchema()"
      ],
      "execution_count": null,
      "outputs": [
        {
          "output_type": "display_data",
          "data": {
            "text/html": [
              "<style scoped>\n",
              "  .ansiout {\n",
              "    display: block;\n",
              "    unicode-bidi: embed;\n",
              "    white-space: pre-wrap;\n",
              "    word-wrap: break-word;\n",
              "    word-break: break-all;\n",
              "    font-family: \"Source Code Pro\", \"Menlo\", monospace;;\n",
              "    font-size: 13px;\n",
              "    color: #555;\n",
              "    margin-left: 4px;\n",
              "    line-height: 19px;\n",
              "  }\n",
              "</style>\n",
              "<div class=\"ansiout\">root\n",
              "-- id: integer (nullable = true)\n",
              "-- diagnosis: string (nullable = true)\n",
              "-- radius_mean: double (nullable = true)\n",
              "-- texture_mean: double (nullable = true)\n",
              "-- perimeter_mean: double (nullable = true)\n",
              "-- area_mean: double (nullable = true)\n",
              "-- smoothness_mean: double (nullable = true)\n",
              "-- compactness_mean: double (nullable = true)\n",
              "-- concavity_mean: double (nullable = true)\n",
              "-- concave points_mean: double (nullable = true)\n",
              "-- symmetry_mean: double (nullable = true)\n",
              "-- fractal_dimension_mean: double (nullable = true)\n",
              "-- radius_se: double (nullable = true)\n",
              "-- texture_se: double (nullable = true)\n",
              "-- perimeter_se: double (nullable = true)\n",
              "-- area_se: double (nullable = true)\n",
              "-- smoothness_se: double (nullable = true)\n",
              "-- compactness_se: double (nullable = true)\n",
              "-- concavity_se: double (nullable = true)\n",
              "-- concave points_se: double (nullable = true)\n",
              "-- symmetry_se: double (nullable = true)\n",
              "-- fractal_dimension_se: double (nullable = true)\n",
              "-- radius_worst: double (nullable = true)\n",
              "-- texture_worst: double (nullable = true)\n",
              "-- perimeter_worst: double (nullable = true)\n",
              "-- area_worst: double (nullable = true)\n",
              "-- smoothness_worst: double (nullable = true)\n",
              "-- compactness_worst: double (nullable = true)\n",
              "-- concavity_worst: double (nullable = true)\n",
              "-- concave points_worst: double (nullable = true)\n",
              "-- symmetry_worst: double (nullable = true)\n",
              "-- fractal_dimension_worst: double (nullable = true)\n",
              "-- _c32: string (nullable = true)\n",
              "\n",
              "</div>"
            ]
          },
          "metadata": {
            "tags": [],
            "application/vnd.databricks.v1+output": {
              "datasetInfos": [],
              "data": "<div class=\"ansiout\">root\n |-- id: integer (nullable = true)\n |-- diagnosis: string (nullable = true)\n |-- radius_mean: double (nullable = true)\n |-- texture_mean: double (nullable = true)\n |-- perimeter_mean: double (nullable = true)\n |-- area_mean: double (nullable = true)\n |-- smoothness_mean: double (nullable = true)\n |-- compactness_mean: double (nullable = true)\n |-- concavity_mean: double (nullable = true)\n |-- concave points_mean: double (nullable = true)\n |-- symmetry_mean: double (nullable = true)\n |-- fractal_dimension_mean: double (nullable = true)\n |-- radius_se: double (nullable = true)\n |-- texture_se: double (nullable = true)\n |-- perimeter_se: double (nullable = true)\n |-- area_se: double (nullable = true)\n |-- smoothness_se: double (nullable = true)\n |-- compactness_se: double (nullable = true)\n |-- concavity_se: double (nullable = true)\n |-- concave points_se: double (nullable = true)\n |-- symmetry_se: double (nullable = true)\n |-- fractal_dimension_se: double (nullable = true)\n |-- radius_worst: double (nullable = true)\n |-- texture_worst: double (nullable = true)\n |-- perimeter_worst: double (nullable = true)\n |-- area_worst: double (nullable = true)\n |-- smoothness_worst: double (nullable = true)\n |-- compactness_worst: double (nullable = true)\n |-- concavity_worst: double (nullable = true)\n |-- concave points_worst: double (nullable = true)\n |-- symmetry_worst: double (nullable = true)\n |-- fractal_dimension_worst: double (nullable = true)\n |-- _c32: string (nullable = true)\n\n</div>",
              "removedWidgets": [],
              "addedWidgets": {},
              "type": "html",
              "arguments": {}
            }
          }
        }
      ]
    },
    {
      "cell_type": "markdown",
      "metadata": {
        "id": "yZtcYoZ0EthX"
      },
      "source": [
        "**1.1 Cleaning Null Values**"
      ]
    },
    {
      "cell_type": "code",
      "metadata": {
        "application/vnd.databricks.v1+cell": {
          "title": "",
          "showTitle": false,
          "inputWidgets": {},
          "nuid": "7eb87d03-d9db-43aa-b87b-5696cc98bad0"
        },
        "id": "eB462_9oEnEl",
        "outputId": "32fe5b5c-c93e-403a-d29b-dd9a4587c6f7"
      },
      "source": [
        "df.select([count(when(isnan(c) | col(c).isNull(), c)).alias(c) for c in df.columns]).show() #looks like _c32 column is null, we just won't include it in the features"
      ],
      "execution_count": null,
      "outputs": [
        {
          "output_type": "display_data",
          "data": {
            "text/html": [
              "<style scoped>\n",
              "  .ansiout {\n",
              "    display: block;\n",
              "    unicode-bidi: embed;\n",
              "    white-space: pre-wrap;\n",
              "    word-wrap: break-word;\n",
              "    word-break: break-all;\n",
              "    font-family: \"Source Code Pro\", \"Menlo\", monospace;;\n",
              "    font-size: 13px;\n",
              "    color: #555;\n",
              "    margin-left: 4px;\n",
              "    line-height: 19px;\n",
              "  }\n",
              "</style>\n",
              "<div class=\"ansiout\">+---+---------+-----------+------------+--------------+---------+---------------+----------------+--------------+-------------------+-------------+----------------------+---------+----------+------------+-------+-------------+--------------+------------+-----------------+-----------+--------------------+------------+-------------+---------------+----------+----------------+-----------------+---------------+--------------------+--------------+-----------------------+----+\n",
              " id|diagnosis|radius_mean|texture_mean|perimeter_mean|area_mean|smoothness_mean|compactness_mean|concavity_mean|concave points_mean|symmetry_mean|fractal_dimension_mean|radius_se|texture_se|perimeter_se|area_se|smoothness_se|compactness_se|concavity_se|concave points_se|symmetry_se|fractal_dimension_se|radius_worst|texture_worst|perimeter_worst|area_worst|smoothness_worst|compactness_worst|concavity_worst|concave points_worst|symmetry_worst|fractal_dimension_worst|_c32|\n",
              "+---+---------+-----------+------------+--------------+---------+---------------+----------------+--------------+-------------------+-------------+----------------------+---------+----------+------------+-------+-------------+--------------+------------+-----------------+-----------+--------------------+------------+-------------+---------------+----------+----------------+-----------------+---------------+--------------------+--------------+-----------------------+----+\n",
              "  0|        0|          0|           0|             0|        0|              0|               0|             0|                  0|            0|                     0|        0|         0|           0|      0|            0|             0|           0|                0|          0|                   0|           0|            0|              0|         0|               0|                0|              0|                   0|             0|                      0| 569|\n",
              "+---+---------+-----------+------------+--------------+---------+---------------+----------------+--------------+-------------------+-------------+----------------------+---------+----------+------------+-------+-------------+--------------+------------+-----------------+-----------+--------------------+------------+-------------+---------------+----------+----------------+-----------------+---------------+--------------------+--------------+-----------------------+----+\n",
              "\n",
              "</div>"
            ]
          },
          "metadata": {
            "tags": [],
            "application/vnd.databricks.v1+output": {
              "datasetInfos": [],
              "data": "<div class=\"ansiout\">+---+---------+-----------+------------+--------------+---------+---------------+----------------+--------------+-------------------+-------------+----------------------+---------+----------+------------+-------+-------------+--------------+------------+-----------------+-----------+--------------------+------------+-------------+---------------+----------+----------------+-----------------+---------------+--------------------+--------------+-----------------------+----+\n| id|diagnosis|radius_mean|texture_mean|perimeter_mean|area_mean|smoothness_mean|compactness_mean|concavity_mean|concave points_mean|symmetry_mean|fractal_dimension_mean|radius_se|texture_se|perimeter_se|area_se|smoothness_se|compactness_se|concavity_se|concave points_se|symmetry_se|fractal_dimension_se|radius_worst|texture_worst|perimeter_worst|area_worst|smoothness_worst|compactness_worst|concavity_worst|concave points_worst|symmetry_worst|fractal_dimension_worst|_c32|\n+---+---------+-----------+------------+--------------+---------+---------------+----------------+--------------+-------------------+-------------+----------------------+---------+----------+------------+-------+-------------+--------------+------------+-----------------+-----------+--------------------+------------+-------------+---------------+----------+----------------+-----------------+---------------+--------------------+--------------+-----------------------+----+\n|  0|        0|          0|           0|             0|        0|              0|               0|             0|                  0|            0|                     0|        0|         0|           0|      0|            0|             0|           0|                0|          0|                   0|           0|            0|              0|         0|               0|                0|              0|                   0|             0|                      0| 569|\n+---+---------+-----------+------------+--------------+---------+---------------+----------------+--------------+-------------------+-------------+----------------------+---------+----------+------------+-------+-------------+--------------+------------+-----------------+-----------+--------------------+------------+-------------+---------------+----------+----------------+-----------------+---------------+--------------------+--------------+-----------------------+----+\n\n</div>",
              "removedWidgets": [],
              "addedWidgets": {},
              "type": "html",
              "arguments": {}
            }
          }
        }
      ]
    },
    {
      "cell_type": "markdown",
      "metadata": {
        "id": "rdpTjrVzEwku"
      },
      "source": [
        "**1.2 Creating Features Column**"
      ]
    },
    {
      "cell_type": "code",
      "metadata": {
        "application/vnd.databricks.v1+cell": {
          "title": "",
          "showTitle": false,
          "inputWidgets": {},
          "nuid": "7bbad4bb-f3ab-48c9-aa8d-1c5e1be847e3"
        },
        "id": "AE7H5G_uEnEl",
        "outputId": "cc4bbbfc-7fdc-449b-c141-cda902f7960a"
      },
      "source": [
        "assembler = VectorAssembler(inputCols=df.columns[2:-2],\n",
        "                           outputCol='features') \n",
        "#so we're grabbing columns 2 to 31 which are our features. Column 1 is our label. Column 0 and 32 are not relevant.\n",
        "\n",
        "output = assembler.transform(df) #applying our vector assembler to all our data\n",
        "\n",
        "output.select('features').head(1) #notice features is a DenseVector containing all the features we combined"
      ],
      "execution_count": null,
      "outputs": [
        {
          "output_type": "display_data",
          "data": {
            "text/html": [
              "<style scoped>\n",
              "  .ansiout {\n",
              "    display: block;\n",
              "    unicode-bidi: embed;\n",
              "    white-space: pre-wrap;\n",
              "    word-wrap: break-word;\n",
              "    word-break: break-all;\n",
              "    font-family: \"Source Code Pro\", \"Menlo\", monospace;;\n",
              "    font-size: 13px;\n",
              "    color: #555;\n",
              "    margin-left: 4px;\n",
              "    line-height: 19px;\n",
              "  }\n",
              "</style>\n",
              "<div class=\"ansiout\">Out[5]: [Row(features=DenseVector([17.99, 10.38, 122.8, 1001.0, 0.1184, 0.2776, 0.3001, 0.1471, 0.2419, 0.0787, 1.095, 0.9053, 8.589, 153.4, 0.0064, 0.049, 0.0537, 0.0159, 0.03, 0.0062, 25.38, 17.33, 184.6, 2019.0, 0.1622, 0.6656, 0.7119, 0.2654, 0.4601]))]</div>"
            ]
          },
          "metadata": {
            "tags": [],
            "application/vnd.databricks.v1+output": {
              "datasetInfos": [],
              "data": "<div class=\"ansiout\">Out[5]: [Row(features=DenseVector([17.99, 10.38, 122.8, 1001.0, 0.1184, 0.2776, 0.3001, 0.1471, 0.2419, 0.0787, 1.095, 0.9053, 8.589, 153.4, 0.0064, 0.049, 0.0537, 0.0159, 0.03, 0.0062, 25.38, 17.33, 184.6, 2019.0, 0.1622, 0.6656, 0.7119, 0.2654, 0.4601]))]</div>",
              "removedWidgets": [],
              "addedWidgets": {},
              "type": "html",
              "arguments": {}
            }
          }
        }
      ]
    },
    {
      "cell_type": "markdown",
      "metadata": {
        "id": "bELLmDcNE1s2"
      },
      "source": [
        "**1.3 Encoding Label**"
      ]
    },
    {
      "cell_type": "code",
      "metadata": {
        "application/vnd.databricks.v1+cell": {
          "title": "",
          "showTitle": false,
          "inputWidgets": {},
          "nuid": "2085b895-11cf-4520-8dd9-17501ecc0e57"
        },
        "id": "VxJyjfnhEnEm",
        "outputId": "3bb55104-f200-4419-9a4e-2f34e4366181"
      },
      "source": [
        "output.groupBy('diagnosis').count().show() #so we got 2 categories for diagnosis"
      ],
      "execution_count": null,
      "outputs": [
        {
          "output_type": "display_data",
          "data": {
            "text/html": [
              "<style scoped>\n",
              "  .ansiout {\n",
              "    display: block;\n",
              "    unicode-bidi: embed;\n",
              "    white-space: pre-wrap;\n",
              "    word-wrap: break-word;\n",
              "    word-break: break-all;\n",
              "    font-family: \"Source Code Pro\", \"Menlo\", monospace;;\n",
              "    font-size: 13px;\n",
              "    color: #555;\n",
              "    margin-left: 4px;\n",
              "    line-height: 19px;\n",
              "  }\n",
              "</style>\n",
              "<div class=\"ansiout\">+---------+-----+\n",
              "diagnosis|count|\n",
              "+---------+-----+\n",
              "        B|  357|\n",
              "        M|  212|\n",
              "+---------+-----+\n",
              "\n",
              "</div>"
            ]
          },
          "metadata": {
            "tags": [],
            "application/vnd.databricks.v1+output": {
              "datasetInfos": [],
              "data": "<div class=\"ansiout\">+---------+-----+\n|diagnosis|count|\n+---------+-----+\n|        B|  357|\n|        M|  212|\n+---------+-----+\n\n</div>",
              "removedWidgets": [],
              "addedWidgets": {},
              "type": "html",
              "arguments": {}
            }
          }
        }
      ]
    },
    {
      "cell_type": "code",
      "metadata": {
        "application/vnd.databricks.v1+cell": {
          "title": "",
          "showTitle": false,
          "inputWidgets": {},
          "nuid": "16e3a843-818c-443c-b4c0-3a01a750f027"
        },
        "id": "-Blsfn08EnEn",
        "outputId": "0c7ed715-353b-4ad3-8e29-da5bff86d16a"
      },
      "source": [
        "encoder = StringIndexer(inputCol=\"diagnosis\", outputCol=\"diagnosis_cat\")\n",
        "encoded = encoder.fit(output).transform(output)\n",
        "encoded.select('diagnosis_cat').show(5) #now M = 1, B = 0"
      ],
      "execution_count": null,
      "outputs": [
        {
          "output_type": "display_data",
          "data": {
            "text/html": [
              "<style scoped>\n",
              "  .ansiout {\n",
              "    display: block;\n",
              "    unicode-bidi: embed;\n",
              "    white-space: pre-wrap;\n",
              "    word-wrap: break-word;\n",
              "    word-break: break-all;\n",
              "    font-family: \"Source Code Pro\", \"Menlo\", monospace;;\n",
              "    font-size: 13px;\n",
              "    color: #555;\n",
              "    margin-left: 4px;\n",
              "    line-height: 19px;\n",
              "  }\n",
              "</style>\n",
              "<div class=\"ansiout\">+-------------+\n",
              "diagnosis_cat|\n",
              "+-------------+\n",
              "          1.0|\n",
              "          1.0|\n",
              "          1.0|\n",
              "          1.0|\n",
              "          1.0|\n",
              "+-------------+\n",
              "only showing top 5 rows\n",
              "\n",
              "</div>"
            ]
          },
          "metadata": {
            "tags": [],
            "application/vnd.databricks.v1+output": {
              "datasetInfos": [],
              "data": "<div class=\"ansiout\">+-------------+\n|diagnosis_cat|\n+-------------+\n|          1.0|\n|          1.0|\n|          1.0|\n|          1.0|\n|          1.0|\n+-------------+\nonly showing top 5 rows\n\n</div>",
              "removedWidgets": [],
              "addedWidgets": {},
              "type": "html",
              "arguments": {}
            }
          }
        }
      ]
    },
    {
      "cell_type": "markdown",
      "metadata": {
        "id": "pmRqfBAYE3ew"
      },
      "source": [
        "**1.4 Creating Features and Label Dataframe**"
      ]
    },
    {
      "cell_type": "code",
      "metadata": {
        "application/vnd.databricks.v1+cell": {
          "title": "",
          "showTitle": false,
          "inputWidgets": {},
          "nuid": "7ad2a2bf-cdae-441a-b2dd-09f6eeef5b09"
        },
        "id": "UoQ_71U6EnEn",
        "outputId": "4a7347bf-eda0-4deb-8433-b61f456bd758"
      },
      "source": [
        "df_final = encoded.select('features', 'diagnosis_cat') #so the data we'll be using to apply Logistic Rregression will be the features and the label\n",
        "\n",
        "df_final.show(3)"
      ],
      "execution_count": null,
      "outputs": [
        {
          "output_type": "display_data",
          "data": {
            "text/html": [
              "<style scoped>\n",
              "  .ansiout {\n",
              "    display: block;\n",
              "    unicode-bidi: embed;\n",
              "    white-space: pre-wrap;\n",
              "    word-wrap: break-word;\n",
              "    word-break: break-all;\n",
              "    font-family: \"Source Code Pro\", \"Menlo\", monospace;;\n",
              "    font-size: 13px;\n",
              "    color: #555;\n",
              "    margin-left: 4px;\n",
              "    line-height: 19px;\n",
              "  }\n",
              "</style>\n",
              "<div class=\"ansiout\">+--------------------+-------------+\n",
              "            features|diagnosis_cat|\n",
              "+--------------------+-------------+\n",
              "[17.99,10.38,122....|          1.0|\n",
              "[20.57,17.77,132....|          1.0|\n",
              "[19.69,21.25,130....|          1.0|\n",
              "+--------------------+-------------+\n",
              "only showing top 3 rows\n",
              "\n",
              "</div>"
            ]
          },
          "metadata": {
            "tags": [],
            "application/vnd.databricks.v1+output": {
              "datasetInfos": [],
              "data": "<div class=\"ansiout\">+--------------------+-------------+\n|            features|diagnosis_cat|\n+--------------------+-------------+\n|[17.99,10.38,122....|          1.0|\n|[20.57,17.77,132....|          1.0|\n|[19.69,21.25,130....|          1.0|\n+--------------------+-------------+\nonly showing top 3 rows\n\n</div>",
              "removedWidgets": [],
              "addedWidgets": {},
              "type": "html",
              "arguments": {}
            }
          }
        }
      ]
    },
    {
      "cell_type": "markdown",
      "metadata": {
        "id": "NFWF_PyQE-zR"
      },
      "source": [
        "**1.5 Train Test Split**"
      ]
    },
    {
      "cell_type": "code",
      "metadata": {
        "application/vnd.databricks.v1+cell": {
          "title": "",
          "showTitle": false,
          "inputWidgets": {},
          "nuid": "1c1df5aa-5730-41a3-bdbe-854d0579022f"
        },
        "id": "Y1DoYfmGEnEo",
        "outputId": "34fd1bc3-3f30-410b-9f5b-552d51a6a04d"
      },
      "source": [
        "train, test = df_final.randomSplit([0.8,0.2]) #train will have 80%, test will have 20% of data\n",
        "\n",
        "train.describe().show()"
      ],
      "execution_count": null,
      "outputs": [
        {
          "output_type": "display_data",
          "data": {
            "text/html": [
              "<style scoped>\n",
              "  .ansiout {\n",
              "    display: block;\n",
              "    unicode-bidi: embed;\n",
              "    white-space: pre-wrap;\n",
              "    word-wrap: break-word;\n",
              "    word-break: break-all;\n",
              "    font-family: \"Source Code Pro\", \"Menlo\", monospace;;\n",
              "    font-size: 13px;\n",
              "    color: #555;\n",
              "    margin-left: 4px;\n",
              "    line-height: 19px;\n",
              "  }\n",
              "</style>\n",
              "<div class=\"ansiout\">+-------+------------------+\n",
              "summary|     diagnosis_cat|\n",
              "+-------+------------------+\n",
              "  count|               465|\n",
              "   mean|0.3741935483870968|\n",
              " stddev|0.4844351549535175|\n",
              "    min|               0.0|\n",
              "    max|               1.0|\n",
              "+-------+------------------+\n",
              "\n",
              "</div>"
            ]
          },
          "metadata": {
            "tags": [],
            "application/vnd.databricks.v1+output": {
              "datasetInfos": [],
              "data": "<div class=\"ansiout\">+-------+------------------+\n|summary|     diagnosis_cat|\n+-------+------------------+\n|  count|               465|\n|   mean|0.3741935483870968|\n| stddev|0.4844351549535175|\n|    min|               0.0|\n|    max|               1.0|\n+-------+------------------+\n\n</div>",
              "removedWidgets": [],
              "addedWidgets": {},
              "type": "html",
              "arguments": {}
            }
          }
        }
      ]
    },
    {
      "cell_type": "code",
      "metadata": {
        "application/vnd.databricks.v1+cell": {
          "title": "",
          "showTitle": false,
          "inputWidgets": {},
          "nuid": "77c5db07-1ce2-451d-93aa-910a0f0a63d0"
        },
        "id": "uFcC29zVEnEo",
        "outputId": "f14e6403-19c3-45a9-8230-ebdec99dbd05"
      },
      "source": [
        "test.describe().show()"
      ],
      "execution_count": null,
      "outputs": [
        {
          "output_type": "display_data",
          "data": {
            "text/html": [
              "<style scoped>\n",
              "  .ansiout {\n",
              "    display: block;\n",
              "    unicode-bidi: embed;\n",
              "    white-space: pre-wrap;\n",
              "    word-wrap: break-word;\n",
              "    word-break: break-all;\n",
              "    font-family: \"Source Code Pro\", \"Menlo\", monospace;;\n",
              "    font-size: 13px;\n",
              "    color: #555;\n",
              "    margin-left: 4px;\n",
              "    line-height: 19px;\n",
              "  }\n",
              "</style>\n",
              "<div class=\"ansiout\">+-------+-------------------+\n",
              "summary|      diagnosis_cat|\n",
              "+-------+-------------------+\n",
              "  count|                104|\n",
              "   mean|0.36538461538461536|\n",
              " stddev|0.48386976318238856|\n",
              "    min|                0.0|\n",
              "    max|                1.0|\n",
              "+-------+-------------------+\n",
              "\n",
              "</div>"
            ]
          },
          "metadata": {
            "tags": [],
            "application/vnd.databricks.v1+output": {
              "datasetInfos": [],
              "data": "<div class=\"ansiout\">+-------+-------------------+\n|summary|      diagnosis_cat|\n+-------+-------------------+\n|  count|                104|\n|   mean|0.36538461538461536|\n| stddev|0.48386976318238856|\n|    min|                0.0|\n|    max|                1.0|\n+-------+-------------------+\n\n</div>",
              "removedWidgets": [],
              "addedWidgets": {},
              "type": "html",
              "arguments": {}
            }
          }
        }
      ]
    },
    {
      "cell_type": "markdown",
      "metadata": {
        "id": "opHZZr7TFBUB"
      },
      "source": [
        "# **Part 2 - Creating our Model**"
      ]
    },
    {
      "cell_type": "code",
      "metadata": {
        "application/vnd.databricks.v1+cell": {
          "title": "",
          "showTitle": false,
          "inputWidgets": {},
          "nuid": "38026d8f-6b71-4752-9c4f-cec7b31ebcef"
        },
        "id": "ZzdwKUPnEnEp",
        "outputId": "1416074f-16d4-4f1e-c2dd-c72717546880"
      },
      "source": [
        "logreg = LogisticRegression(featuresCol='features', labelCol='diagnosis_cat', predictionCol='prediction', maxIter=200)\n",
        "\n",
        "logreg_model = logreg.fit(train) #fitting our train data"
      ],
      "execution_count": null,
      "outputs": [
        {
          "output_type": "display_data",
          "data": {
            "text/html": [
              "<style scoped>\n",
              "  .ansiout {\n",
              "    display: block;\n",
              "    unicode-bidi: embed;\n",
              "    white-space: pre-wrap;\n",
              "    word-wrap: break-word;\n",
              "    word-break: break-all;\n",
              "    font-family: \"Source Code Pro\", \"Menlo\", monospace;;\n",
              "    font-size: 13px;\n",
              "    color: #555;\n",
              "    margin-left: 4px;\n",
              "    line-height: 19px;\n",
              "  }\n",
              "</style>\n",
              "<div class=\"ansiout\"></div>"
            ]
          },
          "metadata": {
            "tags": [],
            "application/vnd.databricks.v1+output": {
              "datasetInfos": [],
              "data": "<div class=\"ansiout\"></div>",
              "removedWidgets": [],
              "addedWidgets": {},
              "type": "html",
              "arguments": {}
            }
          }
        }
      ]
    },
    {
      "cell_type": "markdown",
      "metadata": {
        "id": "4IUfFxBgFGrn"
      },
      "source": [
        "#**Part 3 - Evaluating Model**\n"
      ]
    },
    {
      "cell_type": "code",
      "metadata": {
        "application/vnd.databricks.v1+cell": {
          "title": "",
          "showTitle": false,
          "inputWidgets": {},
          "nuid": "4e5b1e75-d276-4743-b4f2-759d7753f130"
        },
        "id": "fsfe8TWFEnEp",
        "outputId": "711cb572-9c17-4a5e-8b30-ef09e5f7cdad"
      },
      "source": [
        "trainsummary = logreg_model.summary\n",
        "trainsummary.predictions.describe().show()"
      ],
      "execution_count": null,
      "outputs": [
        {
          "output_type": "display_data",
          "data": {
            "text/html": [
              "<style scoped>\n",
              "  .ansiout {\n",
              "    display: block;\n",
              "    unicode-bidi: embed;\n",
              "    white-space: pre-wrap;\n",
              "    word-wrap: break-word;\n",
              "    word-break: break-all;\n",
              "    font-family: \"Source Code Pro\", \"Menlo\", monospace;;\n",
              "    font-size: 13px;\n",
              "    color: #555;\n",
              "    margin-left: 4px;\n",
              "    line-height: 19px;\n",
              "  }\n",
              "</style>\n",
              "<div class=\"ansiout\">+-------+------------------+------------------+\n",
              "summary|     diagnosis_cat|        prediction|\n",
              "+-------+------------------+------------------+\n",
              "  count|               465|               465|\n",
              "   mean|0.3741935483870968|0.3655913978494624|\n",
              " stddev|0.4844351549535175|0.4821142874181808|\n",
              "    min|               0.0|               0.0|\n",
              "    max|               1.0|               1.0|\n",
              "+-------+------------------+------------------+\n",
              "\n",
              "</div>"
            ]
          },
          "metadata": {
            "tags": [],
            "application/vnd.databricks.v1+output": {
              "datasetInfos": [],
              "data": "<div class=\"ansiout\">+-------+------------------+------------------+\n|summary|     diagnosis_cat|        prediction|\n+-------+------------------+------------------+\n|  count|               465|               465|\n|   mean|0.3741935483870968|0.3655913978494624|\n| stddev|0.4844351549535175|0.4821142874181808|\n|    min|               0.0|               0.0|\n|    max|               1.0|               1.0|\n+-------+------------------+------------------+\n\n</div>",
              "removedWidgets": [],
              "addedWidgets": {},
              "type": "html",
              "arguments": {}
            }
          }
        }
      ]
    },
    {
      "cell_type": "code",
      "metadata": {
        "application/vnd.databricks.v1+cell": {
          "title": "",
          "showTitle": false,
          "inputWidgets": {},
          "nuid": "781cd107-43d8-4a80-b4de-39aa3f8cf367"
        },
        "id": "S8yTLINAEnEq",
        "outputId": "905ed2fc-8c8a-4c14-a134-4e8dfd1ab133"
      },
      "source": [
        "pred = logreg_model.evaluate(test)\n",
        "pred.predictions.show(5)"
      ],
      "execution_count": null,
      "outputs": [
        {
          "output_type": "display_data",
          "data": {
            "text/html": [
              "<style scoped>\n",
              "  .ansiout {\n",
              "    display: block;\n",
              "    unicode-bidi: embed;\n",
              "    white-space: pre-wrap;\n",
              "    word-wrap: break-word;\n",
              "    word-break: break-all;\n",
              "    font-family: \"Source Code Pro\", \"Menlo\", monospace;;\n",
              "    font-size: 13px;\n",
              "    color: #555;\n",
              "    margin-left: 4px;\n",
              "    line-height: 19px;\n",
              "  }\n",
              "</style>\n",
              "<div class=\"ansiout\">+--------------------+-------------+--------------------+--------------------+----------+\n",
              "            features|diagnosis_cat|       rawPrediction|         probability|prediction|\n",
              "+--------------------+-------------+--------------------+--------------------+----------+\n",
              "[7.691,25.44,48.3...|          0.0|[14.8281641767721...|[0.99999963674636...|       0.0|\n",
              "[8.597,18.6,54.09...|          0.0|[30.7610616438021...|[0.99999999999995...|       0.0|\n",
              "[8.726,15.83,55.8...|          0.0|[7.64979688048313...|[0.99952408576950...|       0.0|\n",
              "[8.888,14.64,58.7...|          0.0|[42.3118903066938...|           [1.0,0.0]|       0.0|\n",
              "[8.95,15.76,58.74...|          0.0|[36.5429628057369...|[0.99999999999999...|       0.0|\n",
              "+--------------------+-------------+--------------------+--------------------+----------+\n",
              "only showing top 5 rows\n",
              "\n",
              "</div>"
            ]
          },
          "metadata": {
            "tags": [],
            "application/vnd.databricks.v1+output": {
              "datasetInfos": [],
              "data": "<div class=\"ansiout\">+--------------------+-------------+--------------------+--------------------+----------+\n|            features|diagnosis_cat|       rawPrediction|         probability|prediction|\n+--------------------+-------------+--------------------+--------------------+----------+\n|[7.691,25.44,48.3...|          0.0|[14.8281641767721...|[0.99999963674636...|       0.0|\n|[8.597,18.6,54.09...|          0.0|[30.7610616438021...|[0.99999999999995...|       0.0|\n|[8.726,15.83,55.8...|          0.0|[7.64979688048313...|[0.99952408576950...|       0.0|\n|[8.888,14.64,58.7...|          0.0|[42.3118903066938...|           [1.0,0.0]|       0.0|\n|[8.95,15.76,58.74...|          0.0|[36.5429628057369...|[0.99999999999999...|       0.0|\n+--------------------+-------------+--------------------+--------------------+----------+\nonly showing top 5 rows\n\n</div>",
              "removedWidgets": [],
              "addedWidgets": {},
              "type": "html",
              "arguments": {}
            }
          }
        }
      ]
    },
    {
      "cell_type": "code",
      "metadata": {
        "application/vnd.databricks.v1+cell": {
          "title": "",
          "showTitle": false,
          "inputWidgets": {},
          "nuid": "37a14dfb-ce47-497b-914f-40a2e02b76ea"
        },
        "id": "TtpBmmCnEnEr",
        "outputId": "4a02215f-2dba-4621-d3c4-8deb9063de25"
      },
      "source": [
        "y_true = pred.predictions.select(['diagnosis_cat']).collect()\n",
        "y_pred = pred.predictions.select(['prediction']).collect()\n",
        "\n",
        "print(classification_report(y_true, y_pred))"
      ],
      "execution_count": null,
      "outputs": [
        {
          "output_type": "display_data",
          "data": {
            "text/html": [
              "<style scoped>\n",
              "  .ansiout {\n",
              "    display: block;\n",
              "    unicode-bidi: embed;\n",
              "    white-space: pre-wrap;\n",
              "    word-wrap: break-word;\n",
              "    word-break: break-all;\n",
              "    font-family: \"Source Code Pro\", \"Menlo\", monospace;;\n",
              "    font-size: 13px;\n",
              "    color: #555;\n",
              "    margin-left: 4px;\n",
              "    line-height: 19px;\n",
              "  }\n",
              "</style>\n",
              "<div class=\"ansiout\">              precision    recall  f1-score   support\n",
              "\n",
              "         0.0       0.96      0.98      0.97        66\n",
              "         1.0       0.97      0.92      0.95        38\n",
              "\n",
              "    accuracy                           0.96       104\n",
              "   macro avg       0.96      0.95      0.96       104\n",
              "weighted avg       0.96      0.96      0.96       104\n",
              "\n",
              "</div>"
            ]
          },
          "metadata": {
            "tags": [],
            "application/vnd.databricks.v1+output": {
              "datasetInfos": [],
              "data": "<div class=\"ansiout\">              precision    recall  f1-score   support\n\n         0.0       0.96      0.98      0.97        66\n         1.0       0.97      0.92      0.95        38\n\n    accuracy                           0.96       104\n   macro avg       0.96      0.95      0.96       104\nweighted avg       0.96      0.96      0.96       104\n\n</div>",
              "removedWidgets": [],
              "addedWidgets": {},
              "type": "html",
              "arguments": {}
            }
          }
        }
      ]
    },
    {
      "cell_type": "code",
      "metadata": {
        "application/vnd.databricks.v1+cell": {
          "title": "",
          "showTitle": false,
          "inputWidgets": {},
          "nuid": "bb12db2e-71c1-4589-bf72-1b98edcc6089"
        },
        "id": "xH7rTkASEnEr",
        "outputId": "42524223-af5a-4006-b1de-8a25febfb4d2"
      },
      "source": [
        "print(confusion_matrix(y_true, y_pred))"
      ],
      "execution_count": null,
      "outputs": [
        {
          "output_type": "display_data",
          "data": {
            "text/html": [
              "<style scoped>\n",
              "  .ansiout {\n",
              "    display: block;\n",
              "    unicode-bidi: embed;\n",
              "    white-space: pre-wrap;\n",
              "    word-wrap: break-word;\n",
              "    word-break: break-all;\n",
              "    font-family: \"Source Code Pro\", \"Menlo\", monospace;;\n",
              "    font-size: 13px;\n",
              "    color: #555;\n",
              "    margin-left: 4px;\n",
              "    line-height: 19px;\n",
              "  }\n",
              "</style>\n",
              "<div class=\"ansiout\">[[65  1]\n",
              " [ 3 35]]\n",
              "</div>"
            ]
          },
          "metadata": {
            "tags": [],
            "application/vnd.databricks.v1+output": {
              "datasetInfos": [],
              "data": "<div class=\"ansiout\">[[65  1]\n [ 3 35]]\n</div>",
              "removedWidgets": [],
              "addedWidgets": {},
              "type": "html",
              "arguments": {}
            }
          }
        }
      ]
    }
  ]
}